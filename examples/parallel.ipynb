{
 "metadata": {
  "name": "parallel"
 },
 "nbformat": 3,
 "nbformat_minor": 0,
 "worksheets": [
  {
   "cells": [
    {
     "cell_type": "code",
     "collapsed": false,
     "input": [
      "from __future__ import division"
     ],
     "language": "python",
     "metadata": {},
     "outputs": [],
     "prompt_number": 11
    },
    {
     "cell_type": "code",
     "collapsed": false,
     "input": [
      "import h5py as h5"
     ],
     "language": "python",
     "metadata": {},
     "outputs": [],
     "prompt_number": 12
    },
    {
     "cell_type": "code",
     "collapsed": false,
     "input": [
      "f = h5.File(\"parallel.h5\", \"r\")\n",
      "mu = f[\"/mu\"]"
     ],
     "language": "python",
     "metadata": {},
     "outputs": [],
     "prompt_number": 13
    },
    {
     "cell_type": "code",
     "collapsed": false,
     "input": [
      "a = hist(mu, normed=True, bins=56)"
     ],
     "language": "python",
     "metadata": {},
     "outputs": [
      {
       "output_type": "display_data",
       "png": "[encoded data removed]"
      }
     ],
     "prompt_number": 14
    },
    {
     "cell_type": "code",
     "collapsed": false,
     "input": [],
     "language": "python",
     "metadata": {},
     "outputs": [
      {
       "output_type": "stream",
       "stream": "stdout",
       "text": [
        "\n",
        "%run:\n",
        "Run the named file inside IPython as a program.\n",
        "\n",
        "Usage:\\\n",
        "  %run [-n -i -t [-N<N>] -d [-b<N>] -p [profile options]] file [args]\n",
        "\n",
        "Parameters after the filename are passed as command-line arguments to\n",
        "the program (put in sys.argv). Then, control returns to IPython's\n",
        "prompt.\n",
        "\n",
        "This is similar to running at a system prompt:\\\n",
        "  $ python file args\\\n",
        "but with the advantage of giving you IPython's tracebacks, and of\n",
        "loading all variables into your interactive namespace for further use\n",
        "(unless -p is used, see below).\n",
        "\n",
        "The file is executed in a namespace initially consisting only of\n",
        "__name__=='__main__' and sys.argv constructed as indicated. It thus\n",
        "sees its environment as if it were being run as a stand-alone program\n",
        "(except for sharing global objects such as previously imported\n",
        "modules). But after execution, the IPython interactive namespace gets\n",
        "updated with all variables defined in the program (except for __name__\n",
        "and sys.argv). This allows for very convenient loading of code for\n",
        "interactive work, while giving each program a 'clean sheet' to run in.\n",
        "\n",
        "Options:\n",
        "\n",
        "-n: __name__ is NOT set to '__main__', but to the running file's name\n",
        "without extension (as python does under import).  This allows running\n",
        "scripts and reloading the definitions in them without calling code\n",
        "protected by an ' if __name__ == \"__main__\" ' clause.\n",
        "\n",
        "-i: run the file in IPython's namespace instead of an empty one. This\n",
        "is useful if you are experimenting with code written in a text editor\n",
        "which depends on variables defined interactively.\n",
        "\n",
        "-e: ignore sys.exit() calls or SystemExit exceptions in the script\n",
        "being run.  This is particularly useful if IPython is being used to\n",
        "run unittests, which always exit with a sys.exit() call.  In such\n",
        "cases you are interested in the output of the test results, not in\n",
        "seeing a traceback of the unittest module.\n",
        "\n",
        "-t: print timing information at the end of the run.  IPython will give\n",
        "you an estimated CPU time consumption for your script, which under\n",
        "Unix uses the resource module to avoid the wraparound problems of\n",
        "time.clock().  Under Unix, an estimate of time spent on system tasks\n",
        "is also given (for Windows platforms this is reported as 0.0).\n",
        "\n",
        "If -t is given, an additional -N<N> option can be given, where <N>\n",
        "must be an integer indicating how many times you want the script to\n",
        "run.  The final timing report will include total and per run results.\n",
        "\n",
        "For example (testing the script uniq_stable.py)::\n",
        "\n",
        "    In [1]: run -t uniq_stable\n",
        "\n",
        "    IPython CPU timings (estimated):\\\n",
        "      User  :    0.19597 s.\\\n",
        "      System:        0.0 s.\\\n",
        "\n",
        "    In [2]: run -t -N5 uniq_stable\n",
        "\n",
        "    IPython CPU timings (estimated):\\\n",
        "    Total runs performed: 5\\\n",
        "      Times :      Total       Per run\\\n",
        "      User  :   0.910862 s,  0.1821724 s.\\\n",
        "      System:        0.0 s,        0.0 s.\n",
        "\n",
        "-d: run your program under the control of pdb, the Python debugger.\n",
        "This allows you to execute your program step by step, watch variables,\n",
        "etc.  Internally, what IPython does is similar to calling:\n",
        "\n",
        "  pdb.run('execfile(\"YOURFILENAME\")')\n",
        "\n",
        "with a breakpoint set on line 1 of your file.  You can change the line\n",
        "number for this automatic breakpoint to be <N> by using the -bN option\n",
        "(where N must be an integer).  For example::\n",
        "\n",
        "  %run -d -b40 myscript\n",
        "\n",
        "will set the first breakpoint at line 40 in myscript.py.  Note that\n",
        "the first breakpoint must be set on a line which actually does\n",
        "something (not a comment or docstring) for it to stop execution.\n",
        "\n",
        "When the pdb debugger starts, you will see a (Pdb) prompt.  You must\n",
        "first enter 'c' (without quotes) to start execution up to the first\n",
        "breakpoint.\n",
        "\n",
        "Entering 'help' gives information about the use of the debugger.  You\n",
        "can easily see pdb's full documentation with \"import pdb;pdb.help()\"\n",
        "at a prompt.\n",
        "\n",
        "-p: run program under the control of the Python profiler module (which\n",
        "prints a detailed report of execution times, function calls, etc).\n",
        "\n",
        "You can pass other options after -p which affect the behavior of the\n",
        "profiler itself. See the docs for %prun for details.\n",
        "\n",
        "In this mode, the program's variables do NOT propagate back to the\n",
        "IPython interactive namespace (because they remain in the namespace\n",
        "where the profiler executes them).\n",
        "\n",
        "Internally this triggers a call to %prun, see its documentation for\n",
        "details on the options available specifically for profiling.\n",
        "\n",
        "There is one special usage for which the text above doesn't apply:\n",
        "if the filename ends with .ipy, the file is run as ipython script,\n",
        "just as if the commands were written on IPython prompt.\n",
        "\n",
        "-m: specify module name to load instead of script path. Similar to\n",
        "the -m option for the python interpreter. Use this option last if you\n",
        "want to combine with other %run options. Unlike the python interpreter\n",
        "only source modules are allowed no .pyc or .pyo files.\n",
        "For example::\n",
        "\n",
        "    %run -m example\n",
        "\n",
        "will run the example module.\n"
       ]
      },
      {
       "output_type": "stream",
       "stream": "stderr",
       "text": [
        "WARNING: you must provide at least a filename."
       ]
      }
     ],
     "prompt_number": 15
    }
   ],
   "metadata": {}
  }
 ]
}